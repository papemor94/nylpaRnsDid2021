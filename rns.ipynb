{
 "cells": [
  {
   "cell_type": "code",
   "execution_count": 29,
   "metadata": {},
   "outputs": [
    {
     "name": "stdout",
     "output_type": "stream",
     "text": [
      "[0, 0, 6] [1, 1, 3]\n",
      "[1, 1, 9]\n",
      "[0, 0, 18]\n"
     ]
    }
   ],
   "source": [
    "import numpy as np\n",
    "\n",
    "def representation_rns(a , M) :\n",
    "    state  = []\n",
    "    for i in( M) : \n",
    "        state.append(a%i)\n",
    "    return state \n",
    "    \n",
    "def add_rns(a  , b ,  M) : \n",
    "    \n",
    "    #   implementation de l'addition  rns algorithm\n",
    "\n",
    "        # M est un nombre composé  d'un ensemble de valeurs premières entre elles : ce qui definit la base rns \n",
    "        \n",
    "        # on calcule la representation rns de a et b \n",
    "        a_rns = representation_rns(a , M)\n",
    "        b_rns = representation_rns(b , M)\n",
    "        #print (a_rns, b_rns)\n",
    "        return  [x + y for x, y in zip(a_rns, b_rns)]\n",
    "state  = add(20 , 31 , [2, 5, 7]) \n",
    "print (state )\n",
    "\n",
    "\n",
    "    \n",
    "def mult_rns(a  , b ,  M) : \n",
    "        # on calcul la representation rns de a et b \n",
    "        a_rns = representation_rns(a , M)\n",
    "        b_rns = representation_rns(b , M)\n",
    "        #print (a_rns, b_rns)\n",
    "        return  [x * y for x, y in zip(a_rns, b_rns)]\n",
    "state  = mult_rns(20 , 31 , [2, 5, 7]) \n",
    "print (state )"
   ]
  }
 ],
 "metadata": {
  "kernelspec": {
   "display_name": "Python 3",
   "language": "python",
   "name": "python3"
  },
  "language_info": {
   "codemirror_mode": {
    "name": "ipython",
    "version": 3
   },
   "file_extension": ".py",
   "mimetype": "text/x-python",
   "name": "python",
   "nbconvert_exporter": "python",
   "pygments_lexer": "ipython3",
   "version": "3.8.3"
  }
 },
 "nbformat": 4,
 "nbformat_minor": 4
}
